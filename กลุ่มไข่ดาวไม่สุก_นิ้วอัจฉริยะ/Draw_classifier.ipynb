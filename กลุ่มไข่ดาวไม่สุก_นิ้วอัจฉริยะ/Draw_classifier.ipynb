{
  "cells": [
    {
      "cell_type": "markdown",
      "metadata": {
        "id": "-LQofG86xaIY"
      },
      "source": [
        "# Quick draw classifier ✍️📖\n",
        "\n",
        "The [Quick Draw Dataset](https://github.com/googlecreativelab/quickdraw-dataset) is a collection of 50 million drawings across 345 categories, contributed by players of the game Quick, Draw! - ***Google***."
      ]
    },
    {
      "cell_type": "code",
      "execution_count": 18,
      "metadata": {
        "id": "Brjs-MK35gsP"
      },
      "outputs": [],
      "source": [
        "import tensorflow as tf\n",
        "from tensorflow.keras import layers\n",
        "import numpy as np\n",
        "import matplotlib.pyplot as plt\n",
        "import os\n",
        "import ssl\n",
        "ssl._create_default_https_context = ssl._create_unverified_context"
      ]
    },
    {
      "cell_type": "code",
      "execution_count": 6,
      "metadata": {
        "id": "lM65_RXmyaFU"
      },
      "outputs": [],
      "source": [
        "# !gdown https://console.cloud.google.com/storage/browser/quickdraw_dataset/full/simplified"
      ]
    },
    {
      "cell_type": "code",
      "execution_count": 37,
      "metadata": {
        "id": "2l3IGJw7-pWD"
      },
      "outputs": [],
      "source": [
        "classes = [\"banana\", \"circle\", \"church\", \"pants\", \"rainbow\", \"sun\", \"cloud\", \"pizza\", \"butterfly\", \"penguin\", \"whale\"]"
      ]
    },
    {
      "cell_type": "code",
      "execution_count": 38,
      "metadata": {
        "colab": {
          "base_uri": "https://localhost:8080/"
        },
        "id": "zJVNlCDu_eVT",
        "outputId": "bc308a8d-f8d4-46b3-b6c9-a74eb2a5ecc1"
      },
      "outputs": [
        {
          "data": {
            "text/plain": [
              "11"
            ]
          },
          "execution_count": 38,
          "metadata": {},
          "output_type": "execute_result"
        }
      ],
      "source": [
        "len(classes)"
      ]
    },
    {
      "cell_type": "code",
      "execution_count": 35,
      "metadata": {
        "id": "nc7Oa-7Xzu1x"
      },
      "outputs": [
        {
          "ename": "FileExistsError",
          "evalue": "[Errno 17] File exists: 'data'",
          "output_type": "error",
          "traceback": [
            "\u001b[0;31m---------------------------------------------------------------------------\u001b[0m",
            "\u001b[0;31mFileExistsError\u001b[0m                           Traceback (most recent call last)",
            "Cell \u001b[0;32mIn[35], line 1\u001b[0m\n\u001b[0;32m----> 1\u001b[0m \u001b[43mos\u001b[49m\u001b[38;5;241;43m.\u001b[39;49m\u001b[43mmkdir\u001b[49m\u001b[43m(\u001b[49m\u001b[38;5;124;43m\"\u001b[39;49m\u001b[38;5;124;43mdata\u001b[39;49m\u001b[38;5;124;43m\"\u001b[39;49m\u001b[43m)\u001b[49m\n",
            "\u001b[0;31mFileExistsError\u001b[0m: [Errno 17] File exists: 'data'"
          ]
        }
      ],
      "source": [
        "os.mkdir(\"data\")"
      ]
    },
    {
      "cell_type": "code",
      "execution_count": 39,
      "metadata": {
        "colab": {
          "base_uri": "https://localhost:8080/"
        },
        "id": "QJ21ne1H4dKx",
        "outputId": "4e325cce-16f6-4e9e-8e07-6349c1b53bd6"
      },
      "outputs": [
        {
          "name": "stdout",
          "output_type": "stream",
          "text": [
            "https://storage.googleapis.com/quickdraw_dataset/full/numpy_bitmap/banana.npy\n",
            "https://storage.googleapis.com/quickdraw_dataset/full/numpy_bitmap/circle.npy\n",
            "https://storage.googleapis.com/quickdraw_dataset/full/numpy_bitmap/church.npy\n",
            "https://storage.googleapis.com/quickdraw_dataset/full/numpy_bitmap/pants.npy\n",
            "https://storage.googleapis.com/quickdraw_dataset/full/numpy_bitmap/rainbow.npy\n",
            "https://storage.googleapis.com/quickdraw_dataset/full/numpy_bitmap/sun.npy\n",
            "https://storage.googleapis.com/quickdraw_dataset/full/numpy_bitmap/cloud.npy\n",
            "https://storage.googleapis.com/quickdraw_dataset/full/numpy_bitmap/pizza.npy\n",
            "https://storage.googleapis.com/quickdraw_dataset/full/numpy_bitmap/butterfly.npy\n",
            "https://storage.googleapis.com/quickdraw_dataset/full/numpy_bitmap/penguin.npy\n",
            "https://storage.googleapis.com/quickdraw_dataset/full/numpy_bitmap/whale.npy\n"
          ]
        }
      ],
      "source": [
        "import urllib.request\n",
        "base = 'https://storage.googleapis.com/quickdraw_dataset/full/numpy_bitmap/'\n",
        "for c in classes:\n",
        "  cls_url = c.replace('_', '%20')\n",
        "  path = base+cls_url+'.npy'\n",
        "  print(path)\n",
        "  urllib.request.urlretrieve(path, \"data/\" + c + '.npy')"
      ]
    },
    {
      "cell_type": "code",
      "execution_count": 40,
      "metadata": {
        "id": "ukl_dDA97Nb_"
      },
      "outputs": [],
      "source": [
        "import glob\n",
        "\n",
        "def load_data(root, vfold_ratio=0.2, max_items_per_class=35000):\n",
        "    all_files = glob.glob(os.path.join(root, '*.npy'))\n",
        "\n",
        "    #initialize variables \n",
        "    x = np.empty([0, 784])\n",
        "    y = np.empty([0])\n",
        "    class_names = []\n",
        "    \n",
        "    #load a subset of the data to memory \n",
        "    for idx, file in enumerate(all_files):\n",
        "        data = np.load(file)\n",
        "        data = data[0: max_items_per_class, :]\n",
        "        labels = np.full(data.shape[0], idx)\n",
        "\n",
        "        x = np.concatenate((x, data), axis=0)\n",
        "        y = np.append(y, labels)\n",
        "\n",
        "        class_name, ext = os.path.splitext(os.path.basename(file))\n",
        "        class_names.append(class_name)\n",
        "\n",
        "    data = None\n",
        "    labels = None\n",
        "\n",
        "    #separate into training and testing \n",
        "    permutation = np.random.permutation(y.shape[0])\n",
        "    \n",
        "    x = x[permutation, :]\n",
        "    y = y[permutation]\n",
        "\n",
        "    vfold_size = int(x.shape[0]/100*(vfold_ratio*100))\n",
        "    print(vfold_size)\n",
        "    X_test = x[0:vfold_size, :]\n",
        "    y_test = y[0:vfold_size]\n",
        "\n",
        "    X_train = x[vfold_size:x.shape[0], :]\n",
        "    y_train = y[vfold_size:y.shape[0]]\n",
        "    return X_train, y_train, X_test, y_test, class_names"
      ]
    },
    {
      "cell_type": "code",
      "execution_count": 41,
      "metadata": {
        "colab": {
          "base_uri": "https://localhost:8080/"
        },
        "id": "fv5vC_J4S_TM",
        "outputId": "8f4b860f-3d38-4dd8-e797-46cba102ef7b"
      },
      "outputs": [
        {
          "name": "stdout",
          "output_type": "stream",
          "text": [
            "77000\n"
          ]
        }
      ],
      "source": [
        "X_train, y_train, X_test, y_test, classes = load_data(\"data\")"
      ]
    },
    {
      "cell_type": "code",
      "execution_count": 42,
      "metadata": {
        "colab": {
          "base_uri": "https://localhost:8080/"
        },
        "id": "UPvJK-im-7YG",
        "outputId": "2c3ea0cc-4cd6-4dfd-c18e-93df17f50a30"
      },
      "outputs": [
        {
          "data": {
            "text/plain": [
              "['penguin',\n",
              " 'cloud',\n",
              " 'banana',\n",
              " 'pizza',\n",
              " 'sun',\n",
              " 'pants',\n",
              " 'rainbow',\n",
              " 'whale',\n",
              " 'church',\n",
              " 'circle',\n",
              " 'butterfly']"
            ]
          },
          "execution_count": 42,
          "metadata": {},
          "output_type": "execute_result"
        }
      ],
      "source": [
        "classes"
      ]
    },
    {
      "cell_type": "code",
      "execution_count": 43,
      "metadata": {
        "colab": {
          "base_uri": "https://localhost:8080/"
        },
        "id": "5DlziBhDehI-",
        "outputId": "bd3e6268-556a-4c6b-943f-2e7fa48f9da5"
      },
      "outputs": [
        {
          "data": {
            "text/plain": [
              "(308000, 784)"
            ]
          },
          "execution_count": 43,
          "metadata": {},
          "output_type": "execute_result"
        }
      ],
      "source": [
        "X_train.shape"
      ]
    },
    {
      "cell_type": "code",
      "execution_count": 44,
      "metadata": {
        "id": "aiJmLc329ebU"
      },
      "outputs": [],
      "source": [
        "import cv2\n",
        "\n",
        "def preprocess(X_train, X_test):\n",
        "  X_train = X_train.reshape(X_train.shape[0], 28, 28, 1).astype(\"uint8\")\n",
        "  X_train = np.repeat(X_train, 3, -1)\n",
        "  X_test = X_test.reshape(X_test.shape[0], 28, 28, 1).astype(\"uint8\")\n",
        "  X_test = np.repeat(X_test, 3, -1)\n",
        "\n",
        "  X_train = cv2.bitwise_not(X_train)\n",
        "  X_test = cv2.bitwise_not(X_test)\n",
        "\n",
        "  X_train = X_train / 255.\n",
        "  X_test = X_test / 255.\n",
        "\n",
        "  return X_train, X_test"
      ]
    },
    {
      "cell_type": "code",
      "execution_count": 45,
      "metadata": {
        "id": "4r8zYl_4JmYK"
      },
      "outputs": [],
      "source": [
        "X_train, X_test = preprocess(X_train, X_test)"
      ]
    },
    {
      "cell_type": "code",
      "execution_count": 46,
      "metadata": {
        "colab": {
          "base_uri": "https://localhost:8080/"
        },
        "id": "usunnF8ibTEl",
        "outputId": "41c24d8f-d394-4d4c-a5b8-97563971c879"
      },
      "outputs": [
        {
          "data": {
            "text/plain": [
              "dtype('float64')"
            ]
          },
          "execution_count": 46,
          "metadata": {},
          "output_type": "execute_result"
        }
      ],
      "source": [
        "X_test[0].dtype"
      ]
    },
    {
      "cell_type": "code",
      "execution_count": 72,
      "metadata": {
        "colab": {
          "base_uri": "https://localhost:8080/",
          "height": 45
        },
        "id": "soYYGFI6K5LT",
        "outputId": "6e64ea45-73f1-4bdc-8ca3-e9155da0aaeb"
      },
      "outputs": [
        {
          "ename": "ModuleNotFoundError",
          "evalue": "No module named 'google.colab'",
          "output_type": "error",
          "traceback": [
            "\u001b[0;31m---------------------------------------------------------------------------\u001b[0m",
            "\u001b[0;31mModuleNotFoundError\u001b[0m                       Traceback (most recent call last)",
            "Cell \u001b[0;32mIn[72], line 1\u001b[0m\n\u001b[0;32m----> 1\u001b[0m \u001b[38;5;28;01mfrom\u001b[39;00m \u001b[38;5;21;01mgoogle\u001b[39;00m\u001b[38;5;21;01m.\u001b[39;00m\u001b[38;5;21;01mcolab\u001b[39;00m\u001b[38;5;21;01m.\u001b[39;00m\u001b[38;5;21;01mpatches\u001b[39;00m \u001b[38;5;28;01mimport\u001b[39;00m cv2_imshow\n\u001b[1;32m      2\u001b[0m cv2_imshow(X_test[\u001b[38;5;241m6\u001b[39m] \u001b[38;5;241m*\u001b[39m \u001b[38;5;241m255\u001b[39m)\n",
            "\u001b[0;31mModuleNotFoundError\u001b[0m: No module named 'google.colab'"
          ]
        }
      ],
      "source": [
        "from google.colab.patches import cv2_imshow\n",
        "cv2_imshow(X_test[6] * 255)"
      ]
    },
    {
      "cell_type": "code",
      "execution_count": 71,
      "metadata": {
        "colab": {
          "base_uri": "https://localhost:8080/"
        },
        "id": "E2_aP2ijzAzn",
        "outputId": "2f5d71a5-7c34-4a5f-ad7a-834fd6a2400c"
      },
      "outputs": [
        {
          "data": {
            "text/plain": [
              "array([[1.        , 1.        , 1.        ],\n",
              "       [1.        , 1.        , 1.        ],\n",
              "       [1.        , 1.        , 1.        ],\n",
              "       [1.        , 1.        , 1.        ],\n",
              "       [1.        , 1.        , 1.        ],\n",
              "       [1.        , 1.        , 1.        ],\n",
              "       [1.        , 1.        , 1.        ],\n",
              "       [1.        , 1.        , 1.        ],\n",
              "       [0.92156863, 0.92156863, 0.92156863],\n",
              "       [0.00784314, 0.00784314, 0.00784314],\n",
              "       [0.01568627, 0.01568627, 0.01568627],\n",
              "       [0.49019608, 0.49019608, 0.49019608],\n",
              "       [1.        , 1.        , 1.        ],\n",
              "       [1.        , 1.        , 1.        ],\n",
              "       [1.        , 1.        , 1.        ],\n",
              "       [0.62745098, 0.62745098, 0.62745098],\n",
              "       [0.        , 0.        , 0.        ],\n",
              "       [0.09803922, 0.09803922, 0.09803922],\n",
              "       [0.36078431, 0.36078431, 0.36078431],\n",
              "       [1.        , 1.        , 1.        ],\n",
              "       [1.        , 1.        , 1.        ],\n",
              "       [1.        , 1.        , 1.        ],\n",
              "       [1.        , 1.        , 1.        ],\n",
              "       [1.        , 1.        , 1.        ],\n",
              "       [1.        , 1.        , 1.        ],\n",
              "       [1.        , 1.        , 1.        ],\n",
              "       [1.        , 1.        , 1.        ],\n",
              "       [1.        , 1.        , 1.        ]])"
            ]
          },
          "execution_count": 71,
          "metadata": {},
          "output_type": "execute_result"
        }
      ],
      "source": [
        "X_test[0][17]"
      ]
    },
    {
      "cell_type": "code",
      "execution_count": 70,
      "metadata": {
        "colab": {
          "base_uri": "https://localhost:8080/"
        },
        "id": "-EqDDxHfs_sd",
        "outputId": "9711aba5-01ed-4732-f1ac-dc47c8be722b"
      },
      "outputs": [
        {
          "data": {
            "text/plain": [
              "array([[1.        , 1.        , 1.        ],\n",
              "       [1.        , 1.        , 1.        ],\n",
              "       [1.        , 1.        , 1.        ],\n",
              "       [1.        , 1.        , 1.        ],\n",
              "       [1.        , 1.        , 1.        ],\n",
              "       [1.        , 1.        , 1.        ],\n",
              "       [1.        , 1.        , 1.        ],\n",
              "       [1.        , 1.        , 1.        ],\n",
              "       [0.92156863, 0.92156863, 0.92156863],\n",
              "       [0.00784314, 0.00784314, 0.00784314],\n",
              "       [0.01568627, 0.01568627, 0.01568627],\n",
              "       [0.49019608, 0.49019608, 0.49019608],\n",
              "       [1.        , 1.        , 1.        ],\n",
              "       [1.        , 1.        , 1.        ],\n",
              "       [1.        , 1.        , 1.        ],\n",
              "       [0.62745098, 0.62745098, 0.62745098],\n",
              "       [0.        , 0.        , 0.        ],\n",
              "       [0.09803922, 0.09803922, 0.09803922],\n",
              "       [0.36078431, 0.36078431, 0.36078431],\n",
              "       [1.        , 1.        , 1.        ],\n",
              "       [1.        , 1.        , 1.        ],\n",
              "       [1.        , 1.        , 1.        ],\n",
              "       [1.        , 1.        , 1.        ],\n",
              "       [1.        , 1.        , 1.        ],\n",
              "       [1.        , 1.        , 1.        ],\n",
              "       [1.        , 1.        , 1.        ],\n",
              "       [1.        , 1.        , 1.        ],\n",
              "       [1.        , 1.        , 1.        ]])"
            ]
          },
          "execution_count": 70,
          "metadata": {},
          "output_type": "execute_result"
        }
      ],
      "source": [
        "X_test[0][17]"
      ]
    },
    {
      "cell_type": "code",
      "execution_count": 57,
      "metadata": {
        "id": "scX7qDmzFqTg"
      },
      "outputs": [],
      "source": [
        "import tensorflow as tf\n",
        "from tensorflow.keras.layers import Input\n",
        "from tensorflow.keras.layers import Conv2D\n",
        "from tensorflow.keras.layers import Dense\n",
        "from tensorflow.keras.layers import MaxPool2D\n",
        "from tensorflow.keras.layers import Dropout\n",
        "from tensorflow.keras.layers import BatchNormalization"
      ]
    },
    {
      "cell_type": "code",
      "execution_count": 1,
      "metadata": {
        "id": "jfm_yGjHF60O"
      },
      "outputs": [
        {
          "ename": "NameError",
          "evalue": "name 'tf' is not defined",
          "output_type": "error",
          "traceback": [
            "\u001b[0;31m---------------------------------------------------------------------------\u001b[0m",
            "\u001b[0;31mNameError\u001b[0m                                 Traceback (most recent call last)",
            "Cell \u001b[0;32mIn[1], line 4\u001b[0m\n\u001b[1;32m      1\u001b[0m input_shape \u001b[38;5;241m=\u001b[39m (\u001b[38;5;241m28\u001b[39m, \u001b[38;5;241m28\u001b[39m, \u001b[38;5;241m3\u001b[39m)\n\u001b[1;32m      3\u001b[0m \u001b[38;5;66;03m# Build model\u001b[39;00m\n\u001b[0;32m----> 4\u001b[0m model_1 \u001b[38;5;241m=\u001b[39m \u001b[43mtf\u001b[49m\u001b[38;5;241m.\u001b[39mkeras\u001b[38;5;241m.\u001b[39mmodels\u001b[38;5;241m.\u001b[39mSequential([\n\u001b[1;32m      5\u001b[0m   Input(shape\u001b[38;5;241m=\u001b[39minput_shape),\n\u001b[1;32m      6\u001b[0m   Conv2D(\u001b[38;5;241m32\u001b[39m, (\u001b[38;5;241m3\u001b[39m, \u001b[38;5;241m3\u001b[39m), activation\u001b[38;5;241m=\u001b[39m\u001b[38;5;124m\"\u001b[39m\u001b[38;5;124mrelu\u001b[39m\u001b[38;5;124m\"\u001b[39m, padding\u001b[38;5;241m=\u001b[39m\u001b[38;5;124m\"\u001b[39m\u001b[38;5;124msame\u001b[39m\u001b[38;5;124m\"\u001b[39m),\n\u001b[1;32m      7\u001b[0m   BatchNormalization(),\n\u001b[1;32m      8\u001b[0m   Conv2D(\u001b[38;5;241m64\u001b[39m, (\u001b[38;5;241m3\u001b[39m, \u001b[38;5;241m3\u001b[39m), activation\u001b[38;5;241m=\u001b[39m\u001b[38;5;124m\"\u001b[39m\u001b[38;5;124mrelu\u001b[39m\u001b[38;5;124m\"\u001b[39m, padding\u001b[38;5;241m=\u001b[39m\u001b[38;5;124m\"\u001b[39m\u001b[38;5;124msame\u001b[39m\u001b[38;5;124m\"\u001b[39m),\n\u001b[1;32m      9\u001b[0m   BatchNormalization(),\n\u001b[1;32m     10\u001b[0m   MaxPool2D(\u001b[38;5;241m2\u001b[39m),\n\u001b[1;32m     11\u001b[0m   Dropout(\u001b[38;5;241m0.2\u001b[39m),\n\u001b[1;32m     12\u001b[0m   Conv2D(\u001b[38;5;241m128\u001b[39m, (\u001b[38;5;241m3\u001b[39m, \u001b[38;5;241m3\u001b[39m), activation\u001b[38;5;241m=\u001b[39m\u001b[38;5;124m\"\u001b[39m\u001b[38;5;124mrelu\u001b[39m\u001b[38;5;124m\"\u001b[39m, padding\u001b[38;5;241m=\u001b[39m\u001b[38;5;124m\"\u001b[39m\u001b[38;5;124msame\u001b[39m\u001b[38;5;124m\"\u001b[39m),\n\u001b[1;32m     13\u001b[0m   BatchNormalization(),\n\u001b[1;32m     14\u001b[0m   MaxPool2D(\u001b[38;5;241m2\u001b[39m),\n\u001b[1;32m     15\u001b[0m   Dropout(\u001b[38;5;241m0.2\u001b[39m),\n\u001b[1;32m     16\u001b[0m   Dense(\u001b[38;5;241m256\u001b[39m, activation\u001b[38;5;241m=\u001b[39m\u001b[38;5;124m\"\u001b[39m\u001b[38;5;124mrelu\u001b[39m\u001b[38;5;124m\"\u001b[39m),\n\u001b[1;32m     17\u001b[0m   BatchNormalization(),\n\u001b[1;32m     18\u001b[0m   tf\u001b[38;5;241m.\u001b[39mkeras\u001b[38;5;241m.\u001b[39mlayers\u001b[38;5;241m.\u001b[39mFlatten(),\n\u001b[1;32m     19\u001b[0m   Dense(\u001b[38;5;241m15\u001b[39m, activation\u001b[38;5;241m=\u001b[39m\u001b[38;5;124m\"\u001b[39m\u001b[38;5;124msoftmax\u001b[39m\u001b[38;5;124m\"\u001b[39m)\n\u001b[1;32m     20\u001b[0m ])\n\u001b[1;32m     22\u001b[0m \u001b[38;5;66;03m# Compile model\u001b[39;00m\n\u001b[1;32m     23\u001b[0m model_1\u001b[38;5;241m.\u001b[39mcompile(loss\u001b[38;5;241m=\u001b[39m\u001b[38;5;124m\"\u001b[39m\u001b[38;5;124msparse_categorical_crossentropy\u001b[39m\u001b[38;5;124m\"\u001b[39m,\n\u001b[1;32m     24\u001b[0m                 optimizer\u001b[38;5;241m=\u001b[39mtf\u001b[38;5;241m.\u001b[39mkeras\u001b[38;5;241m.\u001b[39moptimizers\u001b[38;5;241m.\u001b[39mAdam(),\n\u001b[1;32m     25\u001b[0m                 metrics\u001b[38;5;241m=\u001b[39m[\u001b[38;5;124m\"\u001b[39m\u001b[38;5;124maccuracy\u001b[39m\u001b[38;5;124m\"\u001b[39m])\n",
            "\u001b[0;31mNameError\u001b[0m: name 'tf' is not defined"
          ]
        }
      ],
      "source": [
        "input_shape = (28, 28, 3)\n",
        "\n",
        "# Build model\n",
        "model_1 = tf.keras.models.Sequential([\n",
        "  Input(shape=input_shape),\n",
        "  Conv2D(32, (3, 3), activation=\"relu\", padding=\"same\"),\n",
        "  BatchNormalization(),\n",
        "  Conv2D(64, (3, 3), activation=\"relu\", padding=\"same\"),\n",
        "  BatchNormalization(),\n",
        "  MaxPool2D(2),\n",
        "  Dropout(0.2),\n",
        "  Conv2D(128, (3, 3), activation=\"relu\", padding=\"same\"),\n",
        "  BatchNormalization(),\n",
        "  MaxPool2D(2),\n",
        "  Dropout(0.2),\n",
        "  Dense(256, activation=\"relu\"),\n",
        "  BatchNormalization(),\n",
        "  tf.keras.layers.Flatten(),\n",
        "  Dense(15, activation=\"softmax\")\n",
        "])\n",
        "\n",
        "# Compile model\n",
        "model_1.compile(loss=\"sparse_categorical_crossentropy\",\n",
        "                optimizer=tf.keras.optimizers.Adam(),\n",
        "                metrics=[\"accuracy\"])"
      ]
    },
    {
      "cell_type": "code",
      "execution_count": 2,
      "metadata": {
        "colab": {
          "base_uri": "https://localhost:8080/"
        },
        "id": "r4s158CpGGJk",
        "outputId": "b698d3b7-b01a-46a8-b1b2-b40413dd27c9"
      },
      "outputs": [
        {
          "ename": "NameError",
          "evalue": "name 'model_1' is not defined",
          "output_type": "error",
          "traceback": [
            "\u001b[0;31m---------------------------------------------------------------------------\u001b[0m",
            "\u001b[0;31mNameError\u001b[0m                                 Traceback (most recent call last)",
            "Cell \u001b[0;32mIn[2], line 1\u001b[0m\n\u001b[0;32m----> 1\u001b[0m \u001b[43mmodel_1\u001b[49m\u001b[38;5;241m.\u001b[39mfit(X_train, y_train, epochs\u001b[38;5;241m=\u001b[39m\u001b[38;5;241m4\u001b[39m, validation_data\u001b[38;5;241m=\u001b[39m(X_test, y_test))\n",
            "\u001b[0;31mNameError\u001b[0m: name 'model_1' is not defined"
          ]
        }
      ],
      "source": [
        "model_1.fit(X_train, y_train, epochs=4, validation_data=(X_test, y_test))"
      ]
    },
    {
      "cell_type": "code",
      "execution_count": 65,
      "metadata": {
        "colab": {
          "base_uri": "https://localhost:8080/"
        },
        "id": "eLg9FC5S0yhN",
        "outputId": "30eac088-6d98-424d-bbcf-a4e602fca6c3"
      },
      "outputs": [
        {
          "name": "stdout",
          "output_type": "stream",
          "text": [
            "1/1 [==============================] - 0s 184ms/step\n"
          ]
        },
        {
          "data": {
            "text/plain": [
              "0"
            ]
          },
          "execution_count": 65,
          "metadata": {},
          "output_type": "execute_result"
        }
      ],
      "source": [
        "result = model_1.predict(tf.expand_dims(X_test[2], 0))\n",
        "result.argmax()"
      ]
    },
    {
      "cell_type": "code",
      "execution_count": 66,
      "metadata": {
        "id": "l4BlVf0-C1ap"
      },
      "outputs": [
        {
          "name": "stderr",
          "output_type": "stream",
          "text": [
            "/Library/Frameworks/Python.framework/Versions/3.11/lib/python3.11/site-packages/keras/src/engine/training.py:3103: UserWarning: You are saving your model as an HDF5 file via `model.save()`. This file format is considered legacy. We recommend using instead the native Keras format, e.g. `model.save('my_model.keras')`.\n",
            "  saving_api.save_model(\n"
          ]
        }
      ],
      "source": [
        "model_1.save(\"draw_model.h5\")"
      ]
    },
    {
      "cell_type": "code",
      "execution_count": 67,
      "metadata": {
        "id": "jFCTiZHFKG-n"
      },
      "outputs": [
        {
          "name": "stderr",
          "output_type": "stream",
          "text": [
            "WARNING:absl:At this time, the v2.11+ optimizer `tf.keras.optimizers.Adam` runs slowly on M1/M2 Macs, please use the legacy Keras optimizer instead, located at `tf.keras.optimizers.legacy.Adam`.\n"
          ]
        }
      ],
      "source": [
        "model = tf.keras.models.load_model(\"draw_model.h5\")"
      ]
    },
    {
      "cell_type": "code",
      "execution_count": 69,
      "metadata": {
        "colab": {
          "base_uri": "https://localhost:8080/"
        },
        "id": "HPiWkDbBBnd3",
        "outputId": "6a57d0cb-695a-40da-e3ce-07cf4c4ec972"
      },
      "outputs": [
        {
          "data": {
            "text/plain": [
              "['penguin',\n",
              " 'cloud',\n",
              " 'banana',\n",
              " 'pizza',\n",
              " 'sun',\n",
              " 'pants',\n",
              " 'rainbow',\n",
              " 'whale',\n",
              " 'church',\n",
              " 'circle',\n",
              " 'butterfly']"
            ]
          },
          "execution_count": 69,
          "metadata": {},
          "output_type": "execute_result"
        }
      ],
      "source": [
        "classes"
      ]
    }
  ],
  "metadata": {
    "accelerator": "GPU",
    "colab": {
      "collapsed_sections": [],
      "name": "Draw classifier.ipynb",
      "provenance": []
    },
    "kernelspec": {
      "display_name": "Python 3",
      "name": "python3"
    },
    "language_info": {
      "codemirror_mode": {
        "name": "ipython",
        "version": 3
      },
      "file_extension": ".py",
      "mimetype": "text/x-python",
      "name": "python",
      "nbconvert_exporter": "python",
      "pygments_lexer": "ipython3",
      "version": "3.11.8"
    }
  },
  "nbformat": 4,
  "nbformat_minor": 0
}
